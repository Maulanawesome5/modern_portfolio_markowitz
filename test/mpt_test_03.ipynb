{
 "cells": [
  {
   "cell_type": "code",
   "execution_count": 1,
   "metadata": {},
   "outputs": [],
   "source": [
    "import numpy as np\n",
    "import pandas as pd\n",
    "from pandas_datareader import data\n",
    "import matplotlib.pyplot as plt\n",
    "import datetime as dt\n",
    "%matplotlib inline"
   ]
  },
  {
   "cell_type": "code",
   "execution_count": 2,
   "metadata": {},
   "outputs": [
    {
     "data": {
      "text/html": [
       "<div>\n",
       "<style scoped>\n",
       "    .dataframe tbody tr th:only-of-type {\n",
       "        vertical-align: middle;\n",
       "    }\n",
       "\n",
       "    .dataframe tbody tr th {\n",
       "        vertical-align: top;\n",
       "    }\n",
       "\n",
       "    .dataframe thead tr th {\n",
       "        text-align: left;\n",
       "    }\n",
       "\n",
       "    .dataframe thead tr:last-of-type th {\n",
       "        text-align: right;\n",
       "    }\n",
       "</style>\n",
       "<table border=\"1\" class=\"dataframe\">\n",
       "  <thead>\n",
       "    <tr>\n",
       "      <th>Attributes</th>\n",
       "      <th colspan=\"2\" halign=\"left\">Adj Close</th>\n",
       "      <th colspan=\"2\" halign=\"left\">Close</th>\n",
       "      <th colspan=\"2\" halign=\"left\">High</th>\n",
       "      <th colspan=\"2\" halign=\"left\">Low</th>\n",
       "      <th colspan=\"2\" halign=\"left\">Open</th>\n",
       "      <th colspan=\"2\" halign=\"left\">Volume</th>\n",
       "    </tr>\n",
       "    <tr>\n",
       "      <th>Symbols</th>\n",
       "      <th>PWON.JK</th>\n",
       "      <th>ASRI.JK</th>\n",
       "      <th>PWON.JK</th>\n",
       "      <th>ASRI.JK</th>\n",
       "      <th>PWON.JK</th>\n",
       "      <th>ASRI.JK</th>\n",
       "      <th>PWON.JK</th>\n",
       "      <th>ASRI.JK</th>\n",
       "      <th>PWON.JK</th>\n",
       "      <th>ASRI.JK</th>\n",
       "      <th>PWON.JK</th>\n",
       "      <th>ASRI.JK</th>\n",
       "    </tr>\n",
       "    <tr>\n",
       "      <th>Date</th>\n",
       "      <th></th>\n",
       "      <th></th>\n",
       "      <th></th>\n",
       "      <th></th>\n",
       "      <th></th>\n",
       "      <th></th>\n",
       "      <th></th>\n",
       "      <th></th>\n",
       "      <th></th>\n",
       "      <th></th>\n",
       "      <th></th>\n",
       "      <th></th>\n",
       "    </tr>\n",
       "  </thead>\n",
       "  <tbody>\n",
       "    <tr>\n",
       "      <th>2020-01-02</th>\n",
       "      <td>564.864868</td>\n",
       "      <td>238.0</td>\n",
       "      <td>570</td>\n",
       "      <td>238</td>\n",
       "      <td>575</td>\n",
       "      <td>240</td>\n",
       "      <td>565</td>\n",
       "      <td>236</td>\n",
       "      <td>575</td>\n",
       "      <td>238</td>\n",
       "      <td>12286300</td>\n",
       "      <td>3323600</td>\n",
       "    </tr>\n",
       "    <tr>\n",
       "      <th>2020-01-03</th>\n",
       "      <td>559.909912</td>\n",
       "      <td>236.0</td>\n",
       "      <td>565</td>\n",
       "      <td>236</td>\n",
       "      <td>575</td>\n",
       "      <td>240</td>\n",
       "      <td>555</td>\n",
       "      <td>236</td>\n",
       "      <td>575</td>\n",
       "      <td>238</td>\n",
       "      <td>84199700</td>\n",
       "      <td>15815400</td>\n",
       "    </tr>\n",
       "    <tr>\n",
       "      <th>2020-01-06</th>\n",
       "      <td>540.090088</td>\n",
       "      <td>234.0</td>\n",
       "      <td>545</td>\n",
       "      <td>234</td>\n",
       "      <td>565</td>\n",
       "      <td>236</td>\n",
       "      <td>545</td>\n",
       "      <td>232</td>\n",
       "      <td>560</td>\n",
       "      <td>236</td>\n",
       "      <td>76881100</td>\n",
       "      <td>3246300</td>\n",
       "    </tr>\n",
       "    <tr>\n",
       "      <th>2020-01-07</th>\n",
       "      <td>540.090088</td>\n",
       "      <td>236.0</td>\n",
       "      <td>545</td>\n",
       "      <td>236</td>\n",
       "      <td>550</td>\n",
       "      <td>238</td>\n",
       "      <td>535</td>\n",
       "      <td>232</td>\n",
       "      <td>545</td>\n",
       "      <td>236</td>\n",
       "      <td>56419000</td>\n",
       "      <td>3340600</td>\n",
       "    </tr>\n",
       "    <tr>\n",
       "      <th>2020-01-08</th>\n",
       "      <td>535.135132</td>\n",
       "      <td>232.0</td>\n",
       "      <td>540</td>\n",
       "      <td>232</td>\n",
       "      <td>550</td>\n",
       "      <td>236</td>\n",
       "      <td>535</td>\n",
       "      <td>230</td>\n",
       "      <td>540</td>\n",
       "      <td>236</td>\n",
       "      <td>50358200</td>\n",
       "      <td>2501900</td>\n",
       "    </tr>\n",
       "  </tbody>\n",
       "</table>\n",
       "</div>"
      ],
      "text/plain": [
       "Attributes   Adj Close           Close            High             Low  \\\n",
       "Symbols        PWON.JK ASRI.JK PWON.JK ASRI.JK PWON.JK ASRI.JK PWON.JK   \n",
       "Date                                                                     \n",
       "2020-01-02  564.864868   238.0     570     238     575     240     565   \n",
       "2020-01-03  559.909912   236.0     565     236     575     240     555   \n",
       "2020-01-06  540.090088   234.0     545     234     565     236     545   \n",
       "2020-01-07  540.090088   236.0     545     236     550     238     535   \n",
       "2020-01-08  535.135132   232.0     540     232     550     236     535   \n",
       "\n",
       "Attributes            Open            Volume            \n",
       "Symbols    ASRI.JK PWON.JK ASRI.JK   PWON.JK   ASRI.JK  \n",
       "Date                                                    \n",
       "2020-01-02     236     575     238  12286300   3323600  \n",
       "2020-01-03     236     575     238  84199700  15815400  \n",
       "2020-01-06     232     560     236  76881100   3246300  \n",
       "2020-01-07     232     545     236  56419000   3340600  \n",
       "2020-01-08     230     540     236  50358200   2501900  "
      ]
     },
     "execution_count": 2,
     "metadata": {},
     "output_type": "execute_result"
    }
   ],
   "source": [
    "# inisialisasi jangka waktu\n",
    "start_date = dt.datetime(year=2020, month=1, day=1)\n",
    "end_date = dt.datetime(year=2022, month=1, day=1)\n",
    "\n",
    "# akses data harga saham dari yahoo finance\n",
    "test = data.DataReader([\"PWON.JK\", \"ASRI.JK\"], \"yahoo\", start_date, end_date)\n",
    "test = pd.DataFrame(test)\n",
    "test.head()"
   ]
  },
  {
   "cell_type": "code",
   "execution_count": 3,
   "metadata": {},
   "outputs": [
    {
     "data": {
      "text/html": [
       "<div>\n",
       "<style scoped>\n",
       "    .dataframe tbody tr th:only-of-type {\n",
       "        vertical-align: middle;\n",
       "    }\n",
       "\n",
       "    .dataframe tbody tr th {\n",
       "        vertical-align: top;\n",
       "    }\n",
       "\n",
       "    .dataframe thead th {\n",
       "        text-align: right;\n",
       "    }\n",
       "</style>\n",
       "<table border=\"1\" class=\"dataframe\">\n",
       "  <thead>\n",
       "    <tr style=\"text-align: right;\">\n",
       "      <th>Symbols</th>\n",
       "      <th>PWON.JK</th>\n",
       "      <th>ASRI.JK</th>\n",
       "    </tr>\n",
       "    <tr>\n",
       "      <th>Date</th>\n",
       "      <th></th>\n",
       "      <th></th>\n",
       "    </tr>\n",
       "  </thead>\n",
       "  <tbody>\n",
       "    <tr>\n",
       "      <th>2020-01-02</th>\n",
       "      <td>570</td>\n",
       "      <td>238</td>\n",
       "    </tr>\n",
       "    <tr>\n",
       "      <th>2020-01-03</th>\n",
       "      <td>565</td>\n",
       "      <td>236</td>\n",
       "    </tr>\n",
       "    <tr>\n",
       "      <th>2020-01-06</th>\n",
       "      <td>545</td>\n",
       "      <td>234</td>\n",
       "    </tr>\n",
       "    <tr>\n",
       "      <th>2020-01-07</th>\n",
       "      <td>545</td>\n",
       "      <td>236</td>\n",
       "    </tr>\n",
       "    <tr>\n",
       "      <th>2020-01-08</th>\n",
       "      <td>540</td>\n",
       "      <td>232</td>\n",
       "    </tr>\n",
       "    <tr>\n",
       "      <th>...</th>\n",
       "      <td>...</td>\n",
       "      <td>...</td>\n",
       "    </tr>\n",
       "    <tr>\n",
       "      <th>2021-12-24</th>\n",
       "      <td>460</td>\n",
       "      <td>162</td>\n",
       "    </tr>\n",
       "    <tr>\n",
       "      <th>2021-12-27</th>\n",
       "      <td>466</td>\n",
       "      <td>163</td>\n",
       "    </tr>\n",
       "    <tr>\n",
       "      <th>2021-12-28</th>\n",
       "      <td>478</td>\n",
       "      <td>165</td>\n",
       "    </tr>\n",
       "    <tr>\n",
       "      <th>2021-12-29</th>\n",
       "      <td>476</td>\n",
       "      <td>162</td>\n",
       "    </tr>\n",
       "    <tr>\n",
       "      <th>2021-12-30</th>\n",
       "      <td>464</td>\n",
       "      <td>162</td>\n",
       "    </tr>\n",
       "  </tbody>\n",
       "</table>\n",
       "<p>489 rows × 2 columns</p>\n",
       "</div>"
      ],
      "text/plain": [
       "Symbols     PWON.JK  ASRI.JK\n",
       "Date                        \n",
       "2020-01-02      570      238\n",
       "2020-01-03      565      236\n",
       "2020-01-06      545      234\n",
       "2020-01-07      545      236\n",
       "2020-01-08      540      232\n",
       "...             ...      ...\n",
       "2021-12-24      460      162\n",
       "2021-12-27      466      163\n",
       "2021-12-28      478      165\n",
       "2021-12-29      476      162\n",
       "2021-12-30      464      162\n",
       "\n",
       "[489 rows x 2 columns]"
      ]
     },
     "execution_count": 3,
     "metadata": {},
     "output_type": "execute_result"
    }
   ],
   "source": [
    "# ambil kolom harga close\n",
    "test = test[\"Close\"]\n",
    "test"
   ]
  },
  {
   "cell_type": "code",
   "execution_count": 4,
   "metadata": {},
   "outputs": [
    {
     "data": {
      "text/plain": [
       "<bound method NDFrame.head of Date\n",
       "2020-01-02         NaN\n",
       "2020-01-03   -0.008811\n",
       "2020-01-06   -0.036040\n",
       "2020-01-07    0.000000\n",
       "2020-01-08   -0.009217\n",
       "                ...   \n",
       "2021-12-24   -0.004338\n",
       "2021-12-27    0.012959\n",
       "2021-12-28    0.025425\n",
       "2021-12-29   -0.004193\n",
       "2021-12-30   -0.025533\n",
       "Name: PWON.JK, Length: 489, dtype: float64>"
      ]
     },
     "execution_count": 4,
     "metadata": {},
     "output_type": "execute_result"
    }
   ],
   "source": [
    "# Log of percentage change\n",
    "pwon = test[\"PWON.JK\"].pct_change().apply(lambda x: np.log(1+x))\n",
    "pwon.head"
   ]
  },
  {
   "cell_type": "code",
   "execution_count": 5,
   "metadata": {},
   "outputs": [
    {
     "data": {
      "text/plain": [
       "0.0010020343762599815"
      ]
     },
     "execution_count": 5,
     "metadata": {},
     "output_type": "execute_result"
    }
   ],
   "source": [
    "# variance\n",
    "var_pwon = pwon.var()\n",
    "var_pwon"
   ]
  },
  {
   "cell_type": "code",
   "execution_count": 6,
   "metadata": {},
   "outputs": [
    {
     "data": {
      "text/plain": [
       "Date\n",
       "2020-01-02         NaN\n",
       "2020-01-03   -0.008439\n",
       "2020-01-06   -0.008511\n",
       "2020-01-07    0.008511\n",
       "2020-01-08   -0.017094\n",
       "                ...   \n",
       "2021-12-24    0.000000\n",
       "2021-12-27    0.006154\n",
       "2021-12-28    0.012195\n",
       "2021-12-29   -0.018349\n",
       "2021-12-30    0.000000\n",
       "Name: ASRI.JK, Length: 489, dtype: float64"
      ]
     },
     "execution_count": 6,
     "metadata": {},
     "output_type": "execute_result"
    }
   ],
   "source": [
    "# Log of percentage change ASRI\n",
    "asri = test[\"ASRI.JK\"].pct_change().apply(lambda x: np.log(1+x))\n",
    "asri"
   ]
  },
  {
   "cell_type": "code",
   "execution_count": 7,
   "metadata": {},
   "outputs": [
    {
     "data": {
      "text/plain": [
       "0.0013916886728823988"
      ]
     },
     "execution_count": 7,
     "metadata": {},
     "output_type": "execute_result"
    }
   ],
   "source": [
    "# variance of asri\n",
    "var_asri = asri.var()\n",
    "var_asri"
   ]
  },
  {
   "cell_type": "code",
   "execution_count": 8,
   "metadata": {},
   "outputs": [
    {
     "data": {
      "text/plain": [
       "(0.5005083356598523, 0.5898492758498561)"
      ]
     },
     "execution_count": 8,
     "metadata": {},
     "output_type": "execute_result"
    }
   ],
   "source": [
    "# volatility\n",
    "pwon_vol = np.sqrt(var_pwon * 250)\n",
    "asri_vol = np.sqrt(var_asri * 250)\n",
    "\n",
    "pwon_vol, asri_vol"
   ]
  },
  {
   "cell_type": "code",
   "execution_count": 9,
   "metadata": {},
   "outputs": [
    {
     "data": {
      "text/plain": [
       "<AxesSubplot:xlabel='Symbols'>"
      ]
     },
     "execution_count": 9,
     "metadata": {},
     "output_type": "execute_result"
    },
    {
     "data": {
      "image/png": "[encoded data removed]",
      "text/plain": [
       "<Figure size 432x288 with 1 Axes>"
      ]
     },
     "metadata": {
      "needs_background": "light"
     },
     "output_type": "display_data"
    }
   ],
   "source": [
    "# Plot volatility of both stock\n",
    "test.pct_change().apply(lambda x: np.log(1+x)).std().apply(lambda x: x * np.sqrt(250)).plot(kind='bar')"
   ]
  },
  {
   "cell_type": "markdown",
   "metadata": {},
   "source": [
    "## Covariance"
   ]
  },
  {
   "cell_type": "code",
   "execution_count": 10,
   "metadata": {},
   "outputs": [
    {
     "data": {
      "text/html": [
       "<div>\n",
       "<style scoped>\n",
       "    .dataframe tbody tr th:only-of-type {\n",
       "        vertical-align: middle;\n",
       "    }\n",
       "\n",
       "    .dataframe tbody tr th {\n",
       "        vertical-align: top;\n",
       "    }\n",
       "\n",
       "    .dataframe thead th {\n",
       "        text-align: right;\n",
       "    }\n",
       "</style>\n",
       "<table border=\"1\" class=\"dataframe\">\n",
       "  <thead>\n",
       "    <tr style=\"text-align: right;\">\n",
       "      <th>Symbols</th>\n",
       "      <th>PWON.JK</th>\n",
       "      <th>ASRI.JK</th>\n",
       "    </tr>\n",
       "    <tr>\n",
       "      <th>Date</th>\n",
       "      <th></th>\n",
       "      <th></th>\n",
       "    </tr>\n",
       "  </thead>\n",
       "  <tbody>\n",
       "    <tr>\n",
       "      <th>2020-01-02</th>\n",
       "      <td>NaN</td>\n",
       "      <td>NaN</td>\n",
       "    </tr>\n",
       "    <tr>\n",
       "      <th>2020-01-03</th>\n",
       "      <td>-0.008811</td>\n",
       "      <td>-0.008439</td>\n",
       "    </tr>\n",
       "    <tr>\n",
       "      <th>2020-01-06</th>\n",
       "      <td>-0.036040</td>\n",
       "      <td>-0.008511</td>\n",
       "    </tr>\n",
       "    <tr>\n",
       "      <th>2020-01-07</th>\n",
       "      <td>0.000000</td>\n",
       "      <td>0.008511</td>\n",
       "    </tr>\n",
       "    <tr>\n",
       "      <th>2020-01-08</th>\n",
       "      <td>-0.009217</td>\n",
       "      <td>-0.017094</td>\n",
       "    </tr>\n",
       "  </tbody>\n",
       "</table>\n",
       "</div>"
      ],
      "text/plain": [
       "Symbols      PWON.JK   ASRI.JK\n",
       "Date                          \n",
       "2020-01-02       NaN       NaN\n",
       "2020-01-03 -0.008811 -0.008439\n",
       "2020-01-06 -0.036040 -0.008511\n",
       "2020-01-07  0.000000  0.008511\n",
       "2020-01-08 -0.009217 -0.017094"
      ]
     },
     "execution_count": 10,
     "metadata": {},
     "output_type": "execute_result"
    }
   ],
   "source": [
    "# Log of percentage\n",
    "test1 = test.pct_change().apply(lambda x: np.log(1+x))\n",
    "test1.head()"
   ]
  },
  {
   "cell_type": "code",
   "execution_count": 11,
   "metadata": {},
   "outputs": [
    {
     "data": {
      "text/plain": [
       "0.0006991339493891837"
      ]
     },
     "execution_count": 11,
     "metadata": {},
     "output_type": "execute_result"
    }
   ],
   "source": [
    "test1[\"PWON.JK\"].cov(test1[\"ASRI.JK\"])\n"
   ]
  },
  {
   "cell_type": "markdown",
   "metadata": {},
   "source": [
    "## Correlation"
   ]
  },
  {
   "cell_type": "code",
   "execution_count": 12,
   "metadata": {},
   "outputs": [
    {
     "data": {
      "text/plain": [
       "0.5920358898917099"
      ]
     },
     "execution_count": 12,
     "metadata": {},
     "output_type": "execute_result"
    }
   ],
   "source": [
    "test1[\"PWON.JK\"].corr(test1[\"ASRI.JK\"])"
   ]
  },
  {
   "cell_type": "markdown",
   "metadata": {},
   "source": [
    "## Expected Return"
   ]
  },
  {
   "cell_type": "code",
   "execution_count": 13,
   "metadata": {},
   "outputs": [
    {
     "data": {
      "text/html": [
       "<div>\n",
       "<style scoped>\n",
       "    .dataframe tbody tr th:only-of-type {\n",
       "        vertical-align: middle;\n",
       "    }\n",
       "\n",
       "    .dataframe tbody tr th {\n",
       "        vertical-align: top;\n",
       "    }\n",
       "\n",
       "    .dataframe thead th {\n",
       "        text-align: right;\n",
       "    }\n",
       "</style>\n",
       "<table border=\"1\" class=\"dataframe\">\n",
       "  <thead>\n",
       "    <tr style=\"text-align: right;\">\n",
       "      <th>Symbols</th>\n",
       "      <th>PWON.JK</th>\n",
       "      <th>ASRI.JK</th>\n",
       "    </tr>\n",
       "    <tr>\n",
       "      <th>Date</th>\n",
       "      <th></th>\n",
       "      <th></th>\n",
       "    </tr>\n",
       "  </thead>\n",
       "  <tbody>\n",
       "    <tr>\n",
       "      <th>2020-01-02</th>\n",
       "      <td>NaN</td>\n",
       "      <td>NaN</td>\n",
       "    </tr>\n",
       "    <tr>\n",
       "      <th>2020-01-03</th>\n",
       "      <td>-0.008811</td>\n",
       "      <td>-0.008439</td>\n",
       "    </tr>\n",
       "    <tr>\n",
       "      <th>2020-01-06</th>\n",
       "      <td>-0.036040</td>\n",
       "      <td>-0.008511</td>\n",
       "    </tr>\n",
       "    <tr>\n",
       "      <th>2020-01-07</th>\n",
       "      <td>0.000000</td>\n",
       "      <td>0.008511</td>\n",
       "    </tr>\n",
       "    <tr>\n",
       "      <th>2020-01-08</th>\n",
       "      <td>-0.009217</td>\n",
       "      <td>-0.017094</td>\n",
       "    </tr>\n",
       "  </tbody>\n",
       "</table>\n",
       "</div>"
      ],
      "text/plain": [
       "Symbols      PWON.JK   ASRI.JK\n",
       "Date                          \n",
       "2020-01-02       NaN       NaN\n",
       "2020-01-03 -0.008811 -0.008439\n",
       "2020-01-06 -0.036040 -0.008511\n",
       "2020-01-07  0.000000  0.008511\n",
       "2020-01-08 -0.009217 -0.017094"
      ]
     },
     "execution_count": 13,
     "metadata": {},
     "output_type": "execute_result"
    }
   ],
   "source": [
    "# calculate log of percentage\n",
    "test2 = test.pct_change().apply(lambda x: np.log(1+x))\n",
    "test2.head()"
   ]
  },
  {
   "cell_type": "markdown",
   "metadata": {},
   "source": [
    "### Weights"
   ]
  },
  {
   "cell_type": "code",
   "execution_count": 14,
   "metadata": {},
   "outputs": [
    {
     "data": {
      "text/plain": [
       "Symbols\n",
       "PWON.JK   -0.000422\n",
       "ASRI.JK   -0.000788\n",
       "dtype: float64"
      ]
     },
     "execution_count": 14,
     "metadata": {},
     "output_type": "execute_result"
    }
   ],
   "source": [
    "# Define weights allocation\n",
    "w = [0.2, 0.8]\n",
    "e_r_ind = test2.mean()  # expected return individual\n",
    "e_r_ind"
   ]
  },
  {
   "cell_type": "code",
   "execution_count": 15,
   "metadata": {},
   "outputs": [
    {
     "data": {
      "text/plain": [
       "-0.0007149381812945529"
      ]
     },
     "execution_count": 15,
     "metadata": {},
     "output_type": "execute_result"
    }
   ],
   "source": [
    "# Total expected return\n",
    "e_r = (e_r_ind * w).sum()\n",
    "e_r"
   ]
  },
  {
   "cell_type": "markdown",
   "metadata": {},
   "source": [
    "## Build Optimal Risky Portfolio"
   ]
  },
  {
   "cell_type": "code",
   "execution_count": 16,
   "metadata": {},
   "outputs": [
    {
     "data": {
      "text/html": [
       "<div>\n",
       "<style scoped>\n",
       "    .dataframe tbody tr th:only-of-type {\n",
       "        vertical-align: middle;\n",
       "    }\n",
       "\n",
       "    .dataframe tbody tr th {\n",
       "        vertical-align: top;\n",
       "    }\n",
       "\n",
       "    .dataframe thead tr th {\n",
       "        text-align: left;\n",
       "    }\n",
       "\n",
       "    .dataframe thead tr:last-of-type th {\n",
       "        text-align: right;\n",
       "    }\n",
       "</style>\n",
       "<table border=\"1\" class=\"dataframe\">\n",
       "  <thead>\n",
       "    <tr>\n",
       "      <th>Attributes</th>\n",
       "      <th colspan=\"4\" halign=\"left\">Adj Close</th>\n",
       "      <th colspan=\"4\" halign=\"left\">Close</th>\n",
       "      <th colspan=\"2\" halign=\"left\">High</th>\n",
       "      <th>...</th>\n",
       "      <th colspan=\"2\" halign=\"left\">Low</th>\n",
       "      <th colspan=\"4\" halign=\"left\">Open</th>\n",
       "      <th colspan=\"4\" halign=\"left\">Volume</th>\n",
       "    </tr>\n",
       "    <tr>\n",
       "      <th>Symbols</th>\n",
       "      <th>PWON.JK</th>\n",
       "      <th>ASRI.JK</th>\n",
       "      <th>BBCA.JK</th>\n",
       "      <th>BMRI.JK</th>\n",
       "      <th>PWON.JK</th>\n",
       "      <th>ASRI.JK</th>\n",
       "      <th>BBCA.JK</th>\n",
       "      <th>BMRI.JK</th>\n",
       "      <th>PWON.JK</th>\n",
       "      <th>ASRI.JK</th>\n",
       "      <th>...</th>\n",
       "      <th>BBCA.JK</th>\n",
       "      <th>BMRI.JK</th>\n",
       "      <th>PWON.JK</th>\n",
       "      <th>ASRI.JK</th>\n",
       "      <th>BBCA.JK</th>\n",
       "      <th>BMRI.JK</th>\n",
       "      <th>PWON.JK</th>\n",
       "      <th>ASRI.JK</th>\n",
       "      <th>BBCA.JK</th>\n",
       "      <th>BMRI.JK</th>\n",
       "    </tr>\n",
       "    <tr>\n",
       "      <th>Date</th>\n",
       "      <th></th>\n",
       "      <th></th>\n",
       "      <th></th>\n",
       "      <th></th>\n",
       "      <th></th>\n",
       "      <th></th>\n",
       "      <th></th>\n",
       "      <th></th>\n",
       "      <th></th>\n",
       "      <th></th>\n",
       "      <th></th>\n",
       "      <th></th>\n",
       "      <th></th>\n",
       "      <th></th>\n",
       "      <th></th>\n",
       "      <th></th>\n",
       "      <th></th>\n",
       "      <th></th>\n",
       "      <th></th>\n",
       "      <th></th>\n",
       "      <th></th>\n",
       "    </tr>\n",
       "  </thead>\n",
       "  <tbody>\n",
       "    <tr>\n",
       "      <th>2020-01-02</th>\n",
       "      <td>564.864868</td>\n",
       "      <td>238.0</td>\n",
       "      <td>6346.921387</td>\n",
       "      <td>6809.337891</td>\n",
       "      <td>570.0</td>\n",
       "      <td>238.0</td>\n",
       "      <td>6690.0</td>\n",
       "      <td>7750.0</td>\n",
       "      <td>575.0</td>\n",
       "      <td>240.0</td>\n",
       "      <td>...</td>\n",
       "      <td>6680.0</td>\n",
       "      <td>7650.0</td>\n",
       "      <td>575.0</td>\n",
       "      <td>238.0</td>\n",
       "      <td>6695.0</td>\n",
       "      <td>7675.0</td>\n",
       "      <td>12286300.0</td>\n",
       "      <td>3323600.0</td>\n",
       "      <td>49445000.0</td>\n",
       "      <td>18689900.0</td>\n",
       "    </tr>\n",
       "    <tr>\n",
       "      <th>2020-01-03</th>\n",
       "      <td>559.909912</td>\n",
       "      <td>236.0</td>\n",
       "      <td>6451.280273</td>\n",
       "      <td>6787.372559</td>\n",
       "      <td>565.0</td>\n",
       "      <td>236.0</td>\n",
       "      <td>6800.0</td>\n",
       "      <td>7725.0</td>\n",
       "      <td>575.0</td>\n",
       "      <td>240.0</td>\n",
       "      <td>...</td>\n",
       "      <td>6725.0</td>\n",
       "      <td>7625.0</td>\n",
       "      <td>575.0</td>\n",
       "      <td>238.0</td>\n",
       "      <td>6750.0</td>\n",
       "      <td>7750.0</td>\n",
       "      <td>84199700.0</td>\n",
       "      <td>15815400.0</td>\n",
       "      <td>47755500.0</td>\n",
       "      <td>35147300.0</td>\n",
       "    </tr>\n",
       "    <tr>\n",
       "      <th>2020-01-06</th>\n",
       "      <td>540.090088</td>\n",
       "      <td>234.0</td>\n",
       "      <td>6389.613770</td>\n",
       "      <td>6677.543945</td>\n",
       "      <td>545.0</td>\n",
       "      <td>234.0</td>\n",
       "      <td>6735.0</td>\n",
       "      <td>7600.0</td>\n",
       "      <td>565.0</td>\n",
       "      <td>236.0</td>\n",
       "      <td>...</td>\n",
       "      <td>6690.0</td>\n",
       "      <td>7525.0</td>\n",
       "      <td>560.0</td>\n",
       "      <td>236.0</td>\n",
       "      <td>6720.0</td>\n",
       "      <td>7650.0</td>\n",
       "      <td>76881100.0</td>\n",
       "      <td>3246300.0</td>\n",
       "      <td>27300000.0</td>\n",
       "      <td>30946000.0</td>\n",
       "    </tr>\n",
       "    <tr>\n",
       "      <th>2020-01-07</th>\n",
       "      <td>540.090088</td>\n",
       "      <td>236.0</td>\n",
       "      <td>6394.356934</td>\n",
       "      <td>6677.543945</td>\n",
       "      <td>545.0</td>\n",
       "      <td>236.0</td>\n",
       "      <td>6740.0</td>\n",
       "      <td>7600.0</td>\n",
       "      <td>550.0</td>\n",
       "      <td>238.0</td>\n",
       "      <td>...</td>\n",
       "      <td>6730.0</td>\n",
       "      <td>7575.0</td>\n",
       "      <td>545.0</td>\n",
       "      <td>236.0</td>\n",
       "      <td>6735.0</td>\n",
       "      <td>7725.0</td>\n",
       "      <td>56419000.0</td>\n",
       "      <td>3340600.0</td>\n",
       "      <td>45022500.0</td>\n",
       "      <td>35447800.0</td>\n",
       "    </tr>\n",
       "    <tr>\n",
       "      <th>2020-01-08</th>\n",
       "      <td>535.135132</td>\n",
       "      <td>232.0</td>\n",
       "      <td>6337.433594</td>\n",
       "      <td>6589.681641</td>\n",
       "      <td>540.0</td>\n",
       "      <td>232.0</td>\n",
       "      <td>6680.0</td>\n",
       "      <td>7500.0</td>\n",
       "      <td>550.0</td>\n",
       "      <td>236.0</td>\n",
       "      <td>...</td>\n",
       "      <td>6670.0</td>\n",
       "      <td>7375.0</td>\n",
       "      <td>540.0</td>\n",
       "      <td>236.0</td>\n",
       "      <td>6670.0</td>\n",
       "      <td>7550.0</td>\n",
       "      <td>50358200.0</td>\n",
       "      <td>2501900.0</td>\n",
       "      <td>53692500.0</td>\n",
       "      <td>52540300.0</td>\n",
       "    </tr>\n",
       "  </tbody>\n",
       "</table>\n",
       "<p>5 rows × 24 columns</p>\n",
       "</div>"
      ],
      "text/plain": [
       "Attributes   Adj Close                                     Close          \\\n",
       "Symbols        PWON.JK ASRI.JK      BBCA.JK      BMRI.JK PWON.JK ASRI.JK   \n",
       "Date                                                                       \n",
       "2020-01-02  564.864868   238.0  6346.921387  6809.337891   570.0   238.0   \n",
       "2020-01-03  559.909912   236.0  6451.280273  6787.372559   565.0   236.0   \n",
       "2020-01-06  540.090088   234.0  6389.613770  6677.543945   545.0   234.0   \n",
       "2020-01-07  540.090088   236.0  6394.356934  6677.543945   545.0   236.0   \n",
       "2020-01-08  535.135132   232.0  6337.433594  6589.681641   540.0   232.0   \n",
       "\n",
       "Attributes                    High          ...     Low            Open  \\\n",
       "Symbols    BBCA.JK BMRI.JK PWON.JK ASRI.JK  ... BBCA.JK BMRI.JK PWON.JK   \n",
       "Date                                        ...                           \n",
       "2020-01-02  6690.0  7750.0   575.0   240.0  ...  6680.0  7650.0   575.0   \n",
       "2020-01-03  6800.0  7725.0   575.0   240.0  ...  6725.0  7625.0   575.0   \n",
       "2020-01-06  6735.0  7600.0   565.0   236.0  ...  6690.0  7525.0   560.0   \n",
       "2020-01-07  6740.0  7600.0   550.0   238.0  ...  6730.0  7575.0   545.0   \n",
       "2020-01-08  6680.0  7500.0   550.0   236.0  ...  6670.0  7375.0   540.0   \n",
       "\n",
       "Attributes                              Volume                          \\\n",
       "Symbols    ASRI.JK BBCA.JK BMRI.JK     PWON.JK     ASRI.JK     BBCA.JK   \n",
       "Date                                                                     \n",
       "2020-01-02   238.0  6695.0  7675.0  12286300.0   3323600.0  49445000.0   \n",
       "2020-01-03   238.0  6750.0  7750.0  84199700.0  15815400.0  47755500.0   \n",
       "2020-01-06   236.0  6720.0  7650.0  76881100.0   3246300.0  27300000.0   \n",
       "2020-01-07   236.0  6735.0  7725.0  56419000.0   3340600.0  45022500.0   \n",
       "2020-01-08   236.0  6670.0  7550.0  50358200.0   2501900.0  53692500.0   \n",
       "\n",
       "Attributes              \n",
       "Symbols        BMRI.JK  \n",
       "Date                    \n",
       "2020-01-02  18689900.0  \n",
       "2020-01-03  35147300.0  \n",
       "2020-01-06  30946000.0  \n",
       "2020-01-07  35447800.0  \n",
       "2020-01-08  52540300.0  \n",
       "\n",
       "[5 rows x 24 columns]"
      ]
     },
     "execution_count": 16,
     "metadata": {},
     "output_type": "execute_result"
    }
   ],
   "source": [
    "# import data\n",
    "df = data.DataReader([\"PWON.JK\", \"ASRI.JK\", \"BBCA.JK\", \"BMRI.JK\"], \"yahoo\", start_date, end_date)\n",
    "df = pd.DataFrame(df)\n",
    "df.head()"
   ]
  },
  {
   "cell_type": "code",
   "execution_count": 17,
   "metadata": {},
   "outputs": [
    {
     "data": {
      "text/html": [
       "<div>\n",
       "<style scoped>\n",
       "    .dataframe tbody tr th:only-of-type {\n",
       "        vertical-align: middle;\n",
       "    }\n",
       "\n",
       "    .dataframe tbody tr th {\n",
       "        vertical-align: top;\n",
       "    }\n",
       "\n",
       "    .dataframe thead th {\n",
       "        text-align: right;\n",
       "    }\n",
       "</style>\n",
       "<table border=\"1\" class=\"dataframe\">\n",
       "  <thead>\n",
       "    <tr style=\"text-align: right;\">\n",
       "      <th>Symbols</th>\n",
       "      <th>PWON.JK</th>\n",
       "      <th>ASRI.JK</th>\n",
       "      <th>BBCA.JK</th>\n",
       "      <th>BMRI.JK</th>\n",
       "    </tr>\n",
       "    <tr>\n",
       "      <th>Date</th>\n",
       "      <th></th>\n",
       "      <th></th>\n",
       "      <th></th>\n",
       "      <th></th>\n",
       "    </tr>\n",
       "  </thead>\n",
       "  <tbody>\n",
       "    <tr>\n",
       "      <th>2020-01-02</th>\n",
       "      <td>570.0</td>\n",
       "      <td>238.0</td>\n",
       "      <td>6690.0</td>\n",
       "      <td>7750.0</td>\n",
       "    </tr>\n",
       "    <tr>\n",
       "      <th>2020-01-03</th>\n",
       "      <td>565.0</td>\n",
       "      <td>236.0</td>\n",
       "      <td>6800.0</td>\n",
       "      <td>7725.0</td>\n",
       "    </tr>\n",
       "    <tr>\n",
       "      <th>2020-01-06</th>\n",
       "      <td>545.0</td>\n",
       "      <td>234.0</td>\n",
       "      <td>6735.0</td>\n",
       "      <td>7600.0</td>\n",
       "    </tr>\n",
       "    <tr>\n",
       "      <th>2020-01-07</th>\n",
       "      <td>545.0</td>\n",
       "      <td>236.0</td>\n",
       "      <td>6740.0</td>\n",
       "      <td>7600.0</td>\n",
       "    </tr>\n",
       "    <tr>\n",
       "      <th>2020-01-08</th>\n",
       "      <td>540.0</td>\n",
       "      <td>232.0</td>\n",
       "      <td>6680.0</td>\n",
       "      <td>7500.0</td>\n",
       "    </tr>\n",
       "  </tbody>\n",
       "</table>\n",
       "</div>"
      ],
      "text/plain": [
       "Symbols     PWON.JK  ASRI.JK  BBCA.JK  BMRI.JK\n",
       "Date                                          \n",
       "2020-01-02    570.0    238.0   6690.0   7750.0\n",
       "2020-01-03    565.0    236.0   6800.0   7725.0\n",
       "2020-01-06    545.0    234.0   6735.0   7600.0\n",
       "2020-01-07    545.0    236.0   6740.0   7600.0\n",
       "2020-01-08    540.0    232.0   6680.0   7500.0"
      ]
     },
     "execution_count": 17,
     "metadata": {},
     "output_type": "execute_result"
    }
   ],
   "source": [
    "# Close price\n",
    "df = df[\"Close\"]\n",
    "df.head()"
   ]
  },
  {
   "cell_type": "markdown",
   "metadata": {},
   "source": [
    "## Covariance and Correlation matrix"
   ]
  },
  {
   "cell_type": "code",
   "execution_count": 18,
   "metadata": {},
   "outputs": [
    {
     "data": {
      "text/html": [
       "<div>\n",
       "<style scoped>\n",
       "    .dataframe tbody tr th:only-of-type {\n",
       "        vertical-align: middle;\n",
       "    }\n",
       "\n",
       "    .dataframe tbody tr th {\n",
       "        vertical-align: top;\n",
       "    }\n",
       "\n",
       "    .dataframe thead th {\n",
       "        text-align: right;\n",
       "    }\n",
       "</style>\n",
       "<table border=\"1\" class=\"dataframe\">\n",
       "  <thead>\n",
       "    <tr style=\"text-align: right;\">\n",
       "      <th>Symbols</th>\n",
       "      <th>PWON.JK</th>\n",
       "      <th>ASRI.JK</th>\n",
       "      <th>BBCA.JK</th>\n",
       "      <th>BMRI.JK</th>\n",
       "    </tr>\n",
       "    <tr>\n",
       "      <th>Symbols</th>\n",
       "      <th></th>\n",
       "      <th></th>\n",
       "      <th></th>\n",
       "      <th></th>\n",
       "    </tr>\n",
       "  </thead>\n",
       "  <tbody>\n",
       "    <tr>\n",
       "      <th>PWON.JK</th>\n",
       "      <td>0.001002</td>\n",
       "      <td>0.000699</td>\n",
       "      <td>0.000304</td>\n",
       "      <td>0.000475</td>\n",
       "    </tr>\n",
       "    <tr>\n",
       "      <th>ASRI.JK</th>\n",
       "      <td>0.000699</td>\n",
       "      <td>0.001392</td>\n",
       "      <td>0.000300</td>\n",
       "      <td>0.000468</td>\n",
       "    </tr>\n",
       "    <tr>\n",
       "      <th>BBCA.JK</th>\n",
       "      <td>0.000304</td>\n",
       "      <td>0.000300</td>\n",
       "      <td>0.000387</td>\n",
       "      <td>0.000339</td>\n",
       "    </tr>\n",
       "    <tr>\n",
       "      <th>BMRI.JK</th>\n",
       "      <td>0.000475</td>\n",
       "      <td>0.000468</td>\n",
       "      <td>0.000339</td>\n",
       "      <td>0.000718</td>\n",
       "    </tr>\n",
       "  </tbody>\n",
       "</table>\n",
       "</div>"
      ],
      "text/plain": [
       "Symbols   PWON.JK   ASRI.JK   BBCA.JK   BMRI.JK\n",
       "Symbols                                        \n",
       "PWON.JK  0.001002  0.000699  0.000304  0.000475\n",
       "ASRI.JK  0.000699  0.001392  0.000300  0.000468\n",
       "BBCA.JK  0.000304  0.000300  0.000387  0.000339\n",
       "BMRI.JK  0.000475  0.000468  0.000339  0.000718"
      ]
     },
     "execution_count": 18,
     "metadata": {},
     "output_type": "execute_result"
    }
   ],
   "source": [
    "cov_matrix = df.pct_change().apply(lambda x: np.log(1+x)).cov()\n",
    "cov_matrix"
   ]
  },
  {
   "cell_type": "code",
   "execution_count": 19,
   "metadata": {},
   "outputs": [
    {
     "data": {
      "text/html": [
       "<div>\n",
       "<style scoped>\n",
       "    .dataframe tbody tr th:only-of-type {\n",
       "        vertical-align: middle;\n",
       "    }\n",
       "\n",
       "    .dataframe tbody tr th {\n",
       "        vertical-align: top;\n",
       "    }\n",
       "\n",
       "    .dataframe thead th {\n",
       "        text-align: right;\n",
       "    }\n",
       "</style>\n",
       "<table border=\"1\" class=\"dataframe\">\n",
       "  <thead>\n",
       "    <tr style=\"text-align: right;\">\n",
       "      <th>Symbols</th>\n",
       "      <th>PWON.JK</th>\n",
       "      <th>ASRI.JK</th>\n",
       "      <th>BBCA.JK</th>\n",
       "      <th>BMRI.JK</th>\n",
       "    </tr>\n",
       "    <tr>\n",
       "      <th>Symbols</th>\n",
       "      <th></th>\n",
       "      <th></th>\n",
       "      <th></th>\n",
       "      <th></th>\n",
       "    </tr>\n",
       "  </thead>\n",
       "  <tbody>\n",
       "    <tr>\n",
       "      <th>PWON.JK</th>\n",
       "      <td>1.000000</td>\n",
       "      <td>0.592036</td>\n",
       "      <td>0.488025</td>\n",
       "      <td>0.560538</td>\n",
       "    </tr>\n",
       "    <tr>\n",
       "      <th>ASRI.JK</th>\n",
       "      <td>0.592036</td>\n",
       "      <td>1.000000</td>\n",
       "      <td>0.408273</td>\n",
       "      <td>0.468138</td>\n",
       "    </tr>\n",
       "    <tr>\n",
       "      <th>BBCA.JK</th>\n",
       "      <td>0.488025</td>\n",
       "      <td>0.408273</td>\n",
       "      <td>1.000000</td>\n",
       "      <td>0.642839</td>\n",
       "    </tr>\n",
       "    <tr>\n",
       "      <th>BMRI.JK</th>\n",
       "      <td>0.560538</td>\n",
       "      <td>0.468138</td>\n",
       "      <td>0.642839</td>\n",
       "      <td>1.000000</td>\n",
       "    </tr>\n",
       "  </tbody>\n",
       "</table>\n",
       "</div>"
      ],
      "text/plain": [
       "Symbols   PWON.JK   ASRI.JK   BBCA.JK   BMRI.JK\n",
       "Symbols                                        \n",
       "PWON.JK  1.000000  0.592036  0.488025  0.560538\n",
       "ASRI.JK  0.592036  1.000000  0.408273  0.468138\n",
       "BBCA.JK  0.488025  0.408273  1.000000  0.642839\n",
       "BMRI.JK  0.560538  0.468138  0.642839  1.000000"
      ]
     },
     "execution_count": 19,
     "metadata": {},
     "output_type": "execute_result"
    }
   ],
   "source": [
    "corr_matrix = df.pct_change().apply(lambda x: np.log(1+x)).corr()\n",
    "corr_matrix"
   ]
  },
  {
   "cell_type": "markdown",
   "metadata": {},
   "source": [
    "## Portfolio Variance"
   ]
  },
  {
   "cell_type": "code",
   "execution_count": 20,
   "metadata": {},
   "outputs": [
    {
     "data": {
      "text/plain": [
       "0.00043354763975707794"
      ]
     },
     "execution_count": 20,
     "metadata": {},
     "output_type": "execute_result"
    }
   ],
   "source": [
    "w = {\"PWON.JK\":0.1, \"ASRI.JK\":0.2, \"BBCA.JK\":0.5, \"BMRI.JK\":0.2}\n",
    "port_var = cov_matrix.mul(w, axis=0).mul(w, axis=1).sum().sum()\n",
    "port_var"
   ]
  },
  {
   "cell_type": "markdown",
   "metadata": {},
   "source": [
    "## Portfolio expected return"
   ]
  },
  {
   "cell_type": "code",
   "execution_count": 21,
   "metadata": {},
   "outputs": [
    {
     "data": {
      "text/plain": [
       "Symbols\n",
       "PWON.JK   -0.090196\n",
       "ASRI.JK   -0.330579\n",
       "BBCA.JK    0.078287\n",
       "BMRI.JK    0.110672\n",
       "dtype: float64"
      ]
     },
     "execution_count": 21,
     "metadata": {},
     "output_type": "execute_result"
    }
   ],
   "source": [
    "# Yearly return for individual companies\n",
    "ind_er = df.resample(\"Y\").last().pct_change().mean()\n",
    "ind_er"
   ]
  },
  {
   "cell_type": "code",
   "execution_count": 22,
   "metadata": {},
   "outputs": [
    {
     "data": {
      "text/plain": [
       "-0.013857643797876202"
      ]
     },
     "execution_count": 22,
     "metadata": {},
     "output_type": "execute_result"
    }
   ],
   "source": [
    "# Portfolio return\n",
    "w = [0.1, 0.2, 0.5, 0.2]\n",
    "port_er = (w * ind_er).sum()\n",
    "port_er"
   ]
  },
  {
   "cell_type": "markdown",
   "metadata": {},
   "source": [
    "### Plotting Efficient Frontier"
   ]
  },
  {
   "cell_type": "code",
   "execution_count": 23,
   "metadata": {},
   "outputs": [
    {
     "data": {
      "text/plain": [
       "Symbols\n",
       "PWON.JK    0.500508\n",
       "ASRI.JK    0.589849\n",
       "BBCA.JK    0.310949\n",
       "BMRI.JK    0.423657\n",
       "dtype: float64"
      ]
     },
     "execution_count": 23,
     "metadata": {},
     "output_type": "execute_result"
    }
   ],
   "source": [
    "# Volatility is given by the annual standard deviation. We multiply by 250 because there are 250 trading days/year.\n",
    "ann_sd = df.pct_change().apply(lambda x: np.log(1+x)).std().apply(lambda x: x*np.sqrt(250))\n",
    "ann_sd"
   ]
  },
  {
   "cell_type": "code",
   "execution_count": 24,
   "metadata": {},
   "outputs": [
    {
     "data": {
      "text/html": [
       "<div>\n",
       "<style scoped>\n",
       "    .dataframe tbody tr th:only-of-type {\n",
       "        vertical-align: middle;\n",
       "    }\n",
       "\n",
       "    .dataframe tbody tr th {\n",
       "        vertical-align: top;\n",
       "    }\n",
       "\n",
       "    .dataframe thead th {\n",
       "        text-align: right;\n",
       "    }\n",
       "</style>\n",
       "<table border=\"1\" class=\"dataframe\">\n",
       "  <thead>\n",
       "    <tr style=\"text-align: right;\">\n",
       "      <th></th>\n",
       "      <th>Returns</th>\n",
       "      <th>Volatility</th>\n",
       "    </tr>\n",
       "    <tr>\n",
       "      <th>Symbols</th>\n",
       "      <th></th>\n",
       "      <th></th>\n",
       "    </tr>\n",
       "  </thead>\n",
       "  <tbody>\n",
       "    <tr>\n",
       "      <th>PWON.JK</th>\n",
       "      <td>-0.090196</td>\n",
       "      <td>0.500508</td>\n",
       "    </tr>\n",
       "    <tr>\n",
       "      <th>ASRI.JK</th>\n",
       "      <td>-0.330579</td>\n",
       "      <td>0.589849</td>\n",
       "    </tr>\n",
       "    <tr>\n",
       "      <th>BBCA.JK</th>\n",
       "      <td>0.078287</td>\n",
       "      <td>0.310949</td>\n",
       "    </tr>\n",
       "    <tr>\n",
       "      <th>BMRI.JK</th>\n",
       "      <td>0.110672</td>\n",
       "      <td>0.423657</td>\n",
       "    </tr>\n",
       "  </tbody>\n",
       "</table>\n",
       "</div>"
      ],
      "text/plain": [
       "          Returns  Volatility\n",
       "Symbols                      \n",
       "PWON.JK -0.090196    0.500508\n",
       "ASRI.JK -0.330579    0.589849\n",
       "BBCA.JK  0.078287    0.310949\n",
       "BMRI.JK  0.110672    0.423657"
      ]
     },
     "execution_count": 24,
     "metadata": {},
     "output_type": "execute_result"
    }
   ],
   "source": [
    "assets = pd.concat([ind_er, ann_sd], axis=1) # Creating a table for visualising returns and volatility of assets\n",
    "assets.columns = ['Returns', 'Volatility']\n",
    "assets"
   ]
  },
  {
   "cell_type": "code",
   "execution_count": 25,
   "metadata": {},
   "outputs": [],
   "source": [
    "p_ret = []          # Define an empty array for portfolio returns\n",
    "p_vol = []          # Define an empty array for portfolio volatility\n",
    "p_weights = []      # Define an empty array for asset weights\n",
    "\n",
    "num_assets = len(df.columns)\n",
    "num_portfolios = 100000000  # saldo Rp. 100 juta\n",
    "\n",
    "for portfolio in range(num_portfolios):\n",
    "    weights = np.random.random(num_assets)\n",
    "    weights = weights/np.sum(weights)\n",
    "    p_weights.append(weights)\n",
    "    returns = np.dot(weights, ind_er) # Returns are the product of individual expected returns of asset and its \n",
    "                                      # weights \n",
    "    p_ret.append(returns)\n",
    "    var = cov_matrix.mul(weights, axis=0).mul(weights, axis=1).sum().sum()# Portfolio Variance\n",
    "    sd = np.sqrt(var) # Daily standard deviation\n",
    "    ann_sd = sd*np.sqrt(250) # Annual standard deviation = volatility\n",
    "    p_vol.append(ann_sd)\n",
    "\n",
    "data = {'Returns':p_ret, 'Volatility':p_vol}\n",
    "\n",
    "for counter, symbol in enumerate(df.columns.tolist()):\n",
    "    #print(counter, symbol)\n",
    "    data[symbol+' weight'] = [w[counter] for w in p_weights]\n",
    "\n",
    "portfolios = pd.DataFrame(data)\n",
    "portfolios.head()"
   ]
  }
 ],
 "metadata": {
  "kernelspec": {
   "display_name": "Python 3.10.3 64-bit",
   "language": "python",
   "name": "python3"
  },
  "language_info": {
   "codemirror_mode": {
    "name": "ipython",
    "version": 3
   },
   "file_extension": ".py",
   "mimetype": "text/x-python",
   "name": "python",
   "nbconvert_exporter": "python",
   "pygments_lexer": "ipython3",
   "version": "3.10.3"
  },
  "orig_nbformat": 4,
  "vscode": {
   "interpreter": {
    "hash": "22f252934ba9a100162ca5ab8c446568a02abce5ba731e5787eb00ade06eeba8"
   }
  }
 },
 "nbformat": 4,
 "nbformat_minor": 2
}
